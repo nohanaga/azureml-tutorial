{
 "cells": [
  {
   "cell_type": "markdown",
   "metadata": {},
   "source": [
    "# Exercise 02 : Prepare Datastore\n",
    "\n",
    "Here we prepare ```Datastore``` for storing and sharing our dataset.\n",
    "\n",
    "Before running the following script, **you must prepare as follows**\n",
    "\n",
    "1. Create your Storage Account in [Azure Portal](https://portal.azure.com/)\n",
    "2. Create container in blob storage\n",
    "3. Copy storage account name, access key, and container name\n",
    "\n",
    "*back to [index](https://github.com/tsmatz/azure-ml-tensorflow-complete-sample/)*"
   ]
  },
  {
   "cell_type": "markdown",
   "metadata": {},
   "source": [
    "## Get config setting\n",
    "\n",
    "Read your config settings. See \"[Exercise01 : Prepare Config Settings](https://github.com/tsmatz/azure-ml-tensorflow-complete-sample/blob/master/notebooks/exercise01_prepare_config.ipynb)\"."
   ]
  },
  {
   "cell_type": "code",
   "execution_count": 1,
   "metadata": {},
   "outputs": [],
   "source": [
    "from azureml.core import Workspace\n",
    "import azureml.core\n",
    "\n",
    "ws = Workspace.from_config()"
   ]
  },
  {
   "cell_type": "markdown",
   "metadata": {},
   "source": [
    "## Use default datastore\n",
    "\n",
    "The default datastore is attached in your AML workspace. (See that a storage account is generated in the same resource group.)    \n",
    "The data is stored in Azure File Share on *{your workspace name}{arbitary numbers}*."
   ]
  },
  {
   "cell_type": "code",
   "execution_count": 2,
   "metadata": {},
   "outputs": [
    {
     "name": "stdout",
     "output_type": "stream",
     "text": [
      "Uploading an estimated of 2 files\n",
      "Uploading ./data/test.tfrecords\n",
      "Uploading ./data/train.tfrecords\n",
      "Uploaded ./data/test.tfrecords, 1 files out of an estimated total of 2\n",
      "Uploaded ./data/train.tfrecords, 2 files out of an estimated total of 2\n",
      "Uploaded 2 files\n"
     ]
    },
    {
     "data": {
      "text/plain": [
       "$AZUREML_DATAREFERENCE_1e1daca8be114b2889427a89797772f3"
      ]
     },
     "execution_count": 2,
     "metadata": {},
     "output_type": "execute_result"
    }
   ],
   "source": [
    "# Get AML default datastore\n",
    "ds = ws.get_default_datastore()\n",
    "\n",
    "# Upload local \"data\" folder (incl. files) as \"tfdata\" folder\n",
    "ds.upload(\n",
    "    src_dir='./data',\n",
    "    target_path='tfdata',\n",
    "    overwrite=True)"
   ]
  },
  {
   "cell_type": "markdown",
   "metadata": {},
   "source": [
    "## [Optional] Use datastore with your own blob storage\n",
    "\n",
    "You can also use your own blob storage.    \n",
    "Set the previously copied storage account name, key, and container name (see above) in the following script and run.\n",
    "\n",
    "(Running this tutorial is not needed for the following exercises.)"
   ]
  },
  {
   "cell_type": "code",
   "execution_count": 4,
   "metadata": {},
   "outputs": [
    {
     "name": "stdout",
     "output_type": "stream",
     "text": [
      "Uploading an estimated of 2 files\n",
      "Uploading ./data/test.tfrecords\n",
      "Uploading ./data/train.tfrecords\n",
      "Uploaded ./data/test.tfrecords, 1 files out of an estimated total of 2\n",
      "Uploaded ./data/train.tfrecords, 2 files out of an estimated total of 2\n",
      "Uploaded 2 files\n"
     ]
    },
    {
     "data": {
      "text/plain": [
       "$AZUREML_DATAREFERENCE_f65a74a6fa4445e6816ea604e9b55e32"
      ]
     },
     "execution_count": 4,
     "metadata": {},
     "output_type": "execute_result"
    }
   ],
   "source": [
    "from azureml.core import Datastore\n",
    "\n",
    "ds = Datastore.register_azure_blob_container(\n",
    "    ws,\n",
    "    datastore_name='myblob01',\n",
    "    account_name='{STORAGE ACCOUNT NAME}',\n",
    "    account_key='{ACCESS KEY}',\n",
    "    container_name='{CONTAINER NAME}',\n",
    "    overwrite=True)\n",
    "\n",
    "# Upload local \"data\" folder (incl. files) as \"tfdata\" folder\n",
    "ds.upload(\n",
    "    src_dir='./data',\n",
    "    target_path='tfdata',\n",
    "    overwrite=True)"
   ]
  },
  {
   "cell_type": "markdown",
   "metadata": {},
   "source": [
    "Once you have registered datastore, you can access using datastore name.    \n",
    "Here we upload data again."
   ]
  },
  {
   "cell_type": "code",
   "execution_count": 5,
   "metadata": {},
   "outputs": [
    {
     "data": {
      "text/plain": [
       "$AZUREML_DATAREFERENCE_b6854bcc152f44229c4e478b6dde1e29"
      ]
     },
     "execution_count": 5,
     "metadata": {},
     "output_type": "execute_result"
    }
   ],
   "source": [
    "# Get your own registered datastore\n",
    "ds = Datastore.get(ws, datastore_name='myblob01')\n",
    "\n",
    "# Upload local \"data\" folder (incl. files) as \"tfdata\" folder\n",
    "ds.upload(\n",
    "    src_dir='./data',\n",
    "    target_path='tfdata',\n",
    "    overwrite=True)"
   ]
  },
  {
   "cell_type": "code",
   "execution_count": null,
   "metadata": {},
   "outputs": [],
   "source": []
  }
 ],
 "metadata": {
  "kernelspec": {
   "display_name": "Python 3",
   "language": "python",
   "name": "python3"
  },
  "language_info": {
   "codemirror_mode": {
    "name": "ipython",
    "version": 3
   },
   "file_extension": ".py",
   "mimetype": "text/x-python",
   "name": "python",
   "nbconvert_exporter": "python",
   "pygments_lexer": "ipython3",
   "version": "3.6.13"
  }
 },
 "nbformat": 4,
 "nbformat_minor": 2
}
